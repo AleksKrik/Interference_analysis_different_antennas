{
 "cells": [
  {
   "cell_type": "markdown",
   "metadata": {},
   "source": [
    "<h1>Лабораторная работа №8</h1>\n",
    "<h1>Анализ помех для разных типов антенн</h1>\n",
    "<Bh3><p>Олейнкова Александра</p> Группа: НФИмд-01-20</Bh3>\n",
    "<h2>Цель:</h2>\n",
    "<Bh2>Исследование помех при разных типах антенн</Bh2>\n",
    "<h3>Задание:</h3>\n",
    "<Bh4>Используя табличные значения для углов направленности (Таблица 2,\n",
    "для антенных решеток 64x1, 32x1) подберите коэффициент k для модели с основным\n",
    "лепестком и потерями на боковые лепестки (формула 1, для каждой антенной\n",
    "решетки), так чтобы получить наилучшую аппроксимацию коэффициентов\n",
    "усиления G1, представленные в таблице 1. "
   ]
  },
  {
   "cell_type": "code",
   "execution_count": 7,
   "metadata": {},
   "outputs": [],
   "source": [
    "import numpy as np\n",
    "import matplotlib.pyplot as plt"
   ]
  },
  {
   "cell_type": "code",
   "execution_count": 8,
   "metadata": {},
   "outputs": [
    {
     "name": "stdout",
     "output_type": "stream",
     "text": [
      "0.0173288\n",
      "G2  64x1: 0.9965792879999998\n"
     ]
    }
   ],
   "source": [
    "G1 = 57.51\n",
    "alpha64 = 1.585 *np.pi/160\n",
    "k = round(((2/G1) - (1-np.cos(alpha64/2)))/(1+np.cos(alpha64/2)),7)\n",
    "print(k)\n",
    "G2 = k*G1\n",
    "print('G2  64x1:', G2)"
   ]
  },
  {
   "cell_type": "code",
   "execution_count": 9,
   "metadata": {},
   "outputs": [
    {
     "name": "stdout",
     "output_type": "stream",
     "text": [
      "0.0345366\n",
      "G2  32x1: 0.993272616\n"
     ]
    }
   ],
   "source": [
    "G1 = 28.76\n",
    "alpha32 = 3.171*np.pi/160\n",
    "k = round(((2/G1) - (1-np.cos(alpha32/2)))/(1+np.cos(alpha32/2)),7)\n",
    "print(k)\n",
    "G2 = k*G1\n",
    "print('G2  32x1:', G2)"
   ]
  },
  {
   "cell_type": "markdown",
   "metadata": {},
   "source": [
    "<h3>Задание:</h3>\n",
    "<Bh4>Рассчитайте вероятность блокировки в двухмерной и трехмерной модели\n",
    "для высоты базовой станции 10 м, высоты приемника 1.4 м, высоты человека 1.7 м.\n",
    "В случае двухмерного сценария высоту базовой станции взять равной высоте\n",
    "приемника. Построить график зависимости вероятностей от интенсивности\n",
    "блокирующих объектов, оценить и сравнить полученные результаты. "
   ]
  },
  {
   "cell_type": "code",
   "execution_count": 10,
   "metadata": {},
   "outputs": [],
   "source": [
    "H_BazSt = 10\n",
    "H_Priem = 1.4\n",
    "H_Chelovek = 1.7\n",
    "\n",
    "lamB = 1 # интенсивность в зоне покрытия\n",
    "R = 2 # радиус\n",
    "D = 3 # расстояние между приемниками"
   ]
  },
  {
   "cell_type": "code",
   "execution_count": 11,
   "metadata": {},
   "outputs": [],
   "source": [
    "step = 0\n",
    "\n",
    "L = []\n",
    "P1 = []\n",
    "P2 = []\n",
    "\n",
    "for i in range(10):\n",
    "    step += 0.1\n",
    "    L.append(step)\n",
    "    # Вероятности отсутствия блокировки\n",
    "    P1.append(1 - np.exp(-2*step*R*D)) #R2\n",
    "    P2.append(1 - np.exp(-2*step*R*(D*(H_Chelovek-H_Priem)/(H_BazSt-H_Priem) + R))) #R3"
   ]
  },
  {
   "cell_type": "code",
   "execution_count": 12,
   "metadata": {},
   "outputs": [
    {
     "data": {
      "image/png": "[encoded data removed]",
      "text/plain": [
       "<Figure size 432x288 with 1 Axes>"
      ]
     },
     "metadata": {
      "needs_background": "light"
     },
     "output_type": "display_data"
    }
   ],
   "source": [
    "#Зависимость вероятностей от интенсивности блокирующих объектов\n",
    "plt.plot(L,P1,'b-')\n",
    "plt.plot(L,P2,'g-')\n",
    "\n",
    "plt.legend(('2d','3d'))\n",
    "plt.xlabel('lambda') #  интенсивность блокировки\n",
    "plt.ylabel('P') # вероятность блокировки\n",
    "plt.show()"
   ]
  },
  {
   "cell_type": "markdown",
   "metadata": {},
   "source": [
    "<h3>Вывод</h3>\n",
    "<Bh4> Вычислили вероятность блокировки в зависимости от антены и интенсивности блокаторов"
   ]
  }
 ],
 "metadata": {
  "kernelspec": {
   "display_name": "Python 3",
   "language": "python",
   "name": "python3"
  },
  "language_info": {
   "codemirror_mode": {
    "name": "ipython",
    "version": 3
   },
   "file_extension": ".py",
   "mimetype": "text/x-python",
   "name": "python",
   "nbconvert_exporter": "python",
   "pygments_lexer": "ipython3",
   "version": "3.8.8"
  }
 },
 "nbformat": 4,
 "nbformat_minor": 4
}
